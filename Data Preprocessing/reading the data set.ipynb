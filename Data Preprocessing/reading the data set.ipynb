{
 "cells": [
  {
   "cell_type": "code",
   "execution_count": 2,
   "id": "525552ed",
   "metadata": {},
   "outputs": [],
   "source": [
    "import pandas as pd\n",
    "import numpy as np\n",
    "import warnings\n",
    "warnings.filterwarnings(\"ignore\")\n",
    "import matplotlib.pyplot as plt\n",
    "import seaborn as sns"
   ]
  },
  {
   "cell_type": "code",
   "execution_count": 9,
   "id": "cd5ab215",
   "metadata": {},
   "outputs": [
    {
     "name": "stdout",
     "output_type": "stream",
     "text": [
      "     Age  Gender  Total_Bilirubin  Direct_Bilirubin  Alkaline_Phosphotase  \\\n",
      "0     65  Female              0.7               0.1                   187   \n",
      "1     62    Male             10.9               5.5                   699   \n",
      "2     62    Male              7.3               4.1                   490   \n",
      "3     58    Male              1.0               0.4                   182   \n",
      "4     72    Male              3.9               2.0                   195   \n",
      "..   ...     ...              ...               ...                   ...   \n",
      "578   60    Male              0.5               0.1                   500   \n",
      "579   40    Male              0.6               0.1                    98   \n",
      "580   52    Male              0.8               0.2                   245   \n",
      "581   31    Male              1.3               0.5                   184   \n",
      "582   38    Male              1.0               0.3                   216   \n",
      "\n",
      "     Alamine_Aminotransferase  Aspartate_Aminotransferase  Total_Protiens  \\\n",
      "0                          16                          18             6.8   \n",
      "1                          64                         100             7.5   \n",
      "2                          60                          68             7.0   \n",
      "3                          14                          20             6.8   \n",
      "4                          27                          59             7.3   \n",
      "..                        ...                         ...             ...   \n",
      "578                        20                          34             5.9   \n",
      "579                        35                          31             6.0   \n",
      "580                        48                          49             6.4   \n",
      "581                        29                          32             6.8   \n",
      "582                        21                          24             7.3   \n",
      "\n",
      "     Albumin  Albumin_and_Globulin_Ratio  Dataset  \n",
      "0        3.3                        0.90        1  \n",
      "1        3.2                        0.74        1  \n",
      "2        3.3                        0.89        1  \n",
      "3        3.4                        1.00        1  \n",
      "4        2.4                        0.40        1  \n",
      "..       ...                         ...      ...  \n",
      "578      1.6                        0.37        2  \n",
      "579      3.2                        1.10        1  \n",
      "580      3.2                        1.00        1  \n",
      "581      3.4                        1.00        1  \n",
      "582      4.4                        1.50        2  \n",
      "\n",
      "[583 rows x 11 columns]\n"
     ]
    }
   ],
   "source": [
    "df=pd.read_csv(\"indian_liver_patient.csv\")\n",
    "print(df)"
   ]
  },
  {
   "cell_type": "code",
   "execution_count": null,
   "id": "bf7cac9b",
   "metadata": {},
   "outputs": [],
   "source": []
  }
 ],
 "metadata": {
  "kernelspec": {
   "display_name": "Python 3 (ipykernel)",
   "language": "python",
   "name": "python3"
  },
  "language_info": {
   "codemirror_mode": {
    "name": "ipython",
    "version": 3
   },
   "file_extension": ".py",
   "mimetype": "text/x-python",
   "name": "python",
   "nbconvert_exporter": "python",
   "pygments_lexer": "ipython3",
   "version": "3.8.5"
  }
 },
 "nbformat": 4,
 "nbformat_minor": 5
}
